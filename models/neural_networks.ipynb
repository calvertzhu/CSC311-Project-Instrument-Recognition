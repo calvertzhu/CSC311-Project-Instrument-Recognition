{
 "cells": [
  {
   "cell_type": "markdown",
   "id": "f0af23fb",
   "metadata": {},
   "source": [
    "# Imports/setup"
   ]
  },
  {
   "cell_type": "code",
   "execution_count": null,
   "id": "f7fab98f",
   "metadata": {},
   "outputs": [],
   "source": [
    "import torch\n",
    "import torch.nn as nn\n",
    "import torch.optim as optim\n",
    "import torch.nn.functional as F\n",
    "from torch.utils.data import Dataset, DataLoader\n",
    "import matplotlib.pyplot as plt\n",
    "import numpy as np"
   ]
  },
  {
   "cell_type": "code",
   "execution_count": null,
   "id": "72c4e593",
   "metadata": {},
   "outputs": [],
   "source": [
    "torch.manual_seed(42)"
   ]
  },
  {
   "cell_type": "markdown",
   "id": "ab275e8d",
   "metadata": {},
   "source": [
    "# Loading datasets"
   ]
  },
  {
   "cell_type": "code",
   "execution_count": null,
   "id": "ca623938",
   "metadata": {},
   "outputs": [],
   "source": [
    "class IRMASDataset(Dataset): # Adapted from PyTorch docs: https://docs.pytorch.org/tutorials/beginner/basics/data_tutorial.html\n",
    "    def __init__(self, data_file, label_file):\n",
    "        self.data = torch.from_numpy(np.load(data_file))\n",
    "        self.labels = torch.from_numpy(np.load(label_file))\n",
    "    def __len__(self):\n",
    "        return self.labels.size(dim=0)\n",
    "    def __getitem__(self, idx):\n",
    "        return torch.index_select(self.data, 0, torch.tensor([idx])), torch.index_select(self.labels, 0, torch.tensor([idx])).item()"
   ]
  },
  {
   "cell_type": "code",
   "execution_count": null,
   "id": "b9fb95c3",
   "metadata": {},
   "outputs": [],
   "source": [
    "train_set = IRMASDataset(\"X_train.npy\", \"y_train.npy\")\n",
    "val_set = IRMASDataset(\"X_val.npy\", \"y_val.npy\")"
   ]
  },
  {
   "cell_type": "markdown",
   "id": "88ad2f3b",
   "metadata": {},
   "source": [
    "# Train loops"
   ]
  },
  {
   "cell_type": "code",
   "execution_count": null,
   "id": "cc289ae8",
   "metadata": {},
   "outputs": [],
   "source": [
    "def train(model, model_name, num_epochs, batch_size, lr): # Adapted from PyTorch docs: https://docs.pytorch.org/tutorials/beginner/introyt/trainingyt.html\n",
    "    train_dataloader = DataLoader(train_set, batch_size=batch_size, shuffle=True)\n",
    "    val_dataloader = DataLoader(val_set, batch_size=batch_size, shuffle=True)\n",
    "    loss_fn = torch.nn.CrossEntropyLoss()\n",
    "    optimizer = torch.optim.Adam(model.parameters(), lr=lr)\n",
    "    train_losses, val_losses = [], []\n",
    "    best_loss = 100000.0\n",
    "    for epoch in range(num_epochs): #TODO: calculate accuracy\n",
    "        train_loss, val_loss = 0.0, 0.0\n",
    "        print(\"Epoch: {}\".format(epoch+1))\n",
    "        c = 0\n",
    "        model.train(True)\n",
    "        for i, data in enumerate(train_dataloader): # Train\n",
    "            c += 1\n",
    "            inputs, labels = data\n",
    "            optimizer.zero_grad()\n",
    "            outputs = model(inputs)\n",
    "            loss = loss_fn(outputs, labels)\n",
    "            loss.backward()\n",
    "            optimizer.step()\n",
    "            train_loss += loss.item()\n",
    "        train_loss /= c\n",
    "        train_losses.append(train_loss)\n",
    "        c = 0\n",
    "        model.eval()\n",
    "        with torch.no_grad():\n",
    "            for i, data in enumerate(val_dataloader): # Validation\n",
    "                c += 1\n",
    "                inputs, labels = data\n",
    "                outputs = model(inputs)\n",
    "                loss = loss_fn(outputs, labels)\n",
    "                val_loss += loss.item()\n",
    "            val_loss /= c\n",
    "            val_losses.append(val_loss)\n",
    "        print(\"Train loss: {}, val loss: {}\".format(train_loss, val_loss))\n",
    "        if val_loss < best_loss:\n",
    "            print(\"New best val loss!\")\n",
    "            best_loss = val_loss\n",
    "            model_path = \"saved_models/{}_{}\".format(model_name, epoch+1)\n",
    "    torch.save(model.state_dict(), model_path)\n",
    "    return train_losses, val_losses\n",
    "\n",
    "def test(model): #TODO\n",
    "    return"
   ]
  },
  {
   "cell_type": "markdown",
   "id": "4fa7d256",
   "metadata": {},
   "source": [
    "# Models"
   ]
  },
  {
   "cell_type": "code",
   "execution_count": null,
   "id": "9cba8807",
   "metadata": {},
   "outputs": [],
   "source": [
    "class BaselineNN(nn.Module):\n",
    "    def __init__(self) -> None:\n",
    "        super().__init__()\n",
    "        self.linear1 = nn.Linear(in_features=128*128, out_features=128)\n",
    "        self.linear2 = nn.Linear(in_features=128, out_features=32)\n",
    "        self.linear3 = nn.Linear(in_features=32, out_features=11)\n",
    "    def forward(self, x_raw):\n",
    "        x = x_raw.view(-1, 128*128)\n",
    "        x = F.relu(self.linear1(x))\n",
    "        x = F.relu(self.linear2(x))\n",
    "        y = self.linear3(x)\n",
    "        return y"
   ]
  },
  {
   "cell_type": "code",
   "execution_count": null,
   "id": "f07b709b",
   "metadata": {},
   "outputs": [],
   "source": [
    "baseline = BaselineNN()\n",
    "baseline_train_loss, baseline_val_loss = train(model=baseline, model_name=\"baseline\", num_epochs=20, batch_size=64, lr=0.005)"
   ]
  },
  {
   "cell_type": "code",
   "execution_count": null,
   "id": "0b0027f7",
   "metadata": {},
   "outputs": [],
   "source": [
    "class PrimaryNN(nn.Module): #TODO: FINISH BUILDING; THIS IS A PLACEHOLDER\n",
    "    def __init__(self) -> None:\n",
    "        super().__init__()\n",
    "        self.conv1 = nn.Conv2d(in_channels=1, out_channels=3, kernel_size=3, stride=1, padding=0)\n",
    "        self.pool = nn.MaxPool2d(kernel_size=2, stride=2)\n",
    "        self.linear1 = nn.Linear(in_features=63*63*3, out_features=11)\n",
    "    def forward(self, x):\n",
    "        x = F.relu(self.conv1(x))\n",
    "        x = self.pool(x)\n",
    "        y = self.linear1(x.view(-1, 63*63*3))\n",
    "        return y"
   ]
  },
  {
   "cell_type": "code",
   "execution_count": null,
   "id": "da7fc12d",
   "metadata": {},
   "outputs": [],
   "source": [
    "primary = PrimaryNN()\n",
    "primary_train_loss, primary_val_loss = train(model=primary, model_name=\"primary\", num_epochs=20, batch_size=64, lr=0.001)"
   ]
  },
  {
   "cell_type": "markdown",
   "id": "5537cec5",
   "metadata": {},
   "source": [
    "# Plotting"
   ]
  },
  {
   "cell_type": "code",
   "execution_count": null,
   "id": "95f63afb",
   "metadata": {},
   "outputs": [],
   "source": [
    "plt.scatter(np.arange(1, len(baseline_train_loss)+1, 1, dtype=int), baseline_train_loss, label=\"Train loss\")\n",
    "plt.scatter(np.arange(1, len(baseline_val_loss)+1, 1, dtype=int), baseline_val_loss, label=\"Validation loss\")\n",
    "plt.xlabel(\"Epoch\")\n",
    "plt.ylabel(\"Cross-Entropy Loss\")\n",
    "plt.legend()\n",
    "plt.title(\"Train and Validation Loss Curves for Baseline Model\")"
   ]
  },
  {
   "cell_type": "code",
   "execution_count": null,
   "id": "ca0d2e82",
   "metadata": {},
   "outputs": [],
   "source": [
    "plt.scatter(np.arange(1, len(primary_train_loss)+1, 1, dtype=int), primary_train_loss, label=\"Train loss\")\n",
    "plt.scatter(np.arange(1, len(primary_val_loss)+1, 1, dtype=int), primary_val_loss, label=\"Validation loss\")\n",
    "plt.xlabel(\"Epoch\")\n",
    "plt.ylabel(\"Cross-Entropy Loss\")\n",
    "plt.legend()\n",
    "plt.title(\"Train and Validation Loss Curves for Primary Model\")"
   ]
  }
 ],
 "metadata": {
  "kernelspec": {
   "display_name": ".venv",
   "language": "python",
   "name": "python3"
  },
  "language_info": {
   "codemirror_mode": {
    "name": "ipython",
    "version": 3
   },
   "file_extension": ".py",
   "mimetype": "text/x-python",
   "name": "python",
   "nbconvert_exporter": "python",
   "pygments_lexer": "ipython3",
   "version": "3.12.4"
  }
 },
 "nbformat": 4,
 "nbformat_minor": 5
}
